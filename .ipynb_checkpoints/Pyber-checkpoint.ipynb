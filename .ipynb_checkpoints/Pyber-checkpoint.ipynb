{
 "cells": [
  {
   "cell_type": "markdown",
   "metadata": {},
   "source": [
    "# PyBer Ride Sharing Analysis"
   ]
  },
  {
   "cell_type": "markdown",
   "metadata": {},
   "source": [
    "### The ride sharing bonanza continues! Seeing the success of notable players like Uber and Lyft, you've decided to join a fledgling ride sharing company of your own. In your latest capacity, you'll be acting as Chief Data Strategist for the company. In this role, you'll be expected to offer data-backed guidance on new opportunities for market differentiation.\n",
    "\n",
    "You've since been given access to the company's complete recordset of rides. This contains information about every active driver and historic ride, including details like city, driver count, individual fares, and city type.\n",
    "\n",
    "Your objective is to build a Bubble Plot that showcases the relationship between four key variables:\n",
    "\n",
    "\n",
    "Average Fare ($) Per City\n",
    "Total Number of Rides Per City\n",
    "Total Number of Drivers Per City\n",
    "City Type (Urban, Suburban, Rural)\n",
    "\n",
    "\n",
    "In addition, you will be expected to produce the following three pie charts:\n",
    "\n",
    "\n",
    "% of Total Fares by City Type\n",
    "% of Total Rides by City Type\n",
    "% of Total Drivers by City Type\n",
    "\n",
    "\n",
    "As final considerations:\n",
    "\n",
    "\n",
    "You must use the Pandas Library and the Jupyter Notebook.\n",
    "You must use the Matplotlib and Seaborn libraries.\n",
    "You must include a written description of three observable trends based on the data.\n",
    "You must use proper labeling of your plots, including aspects like: Plot Titles, Axes Labels, Legend Labels, Wedge Percentages, and Wedge Labels.\n",
    "Remember when making your plots to consider aesthetics!\n",
    "\n",
    "\n",
    "You must stick to the Pyber color scheme (Gold, Light Sky Blue, and Light Coral) in producing your plot and pie charts.\n",
    "When making your Bubble Plot, experiment with effects like alpha, edgecolor, and linewidths.\n",
    "When making your Pie Chart, experiment with effects like shadow, startangle, and explosion.\n",
    "\n",
    "\n",
    "You must include an exported markdown version of your Notebook called  README.md in your GitHub repository.\n",
    "\n",
    "\n",
    "See Example Solution for a reference on expected format."
   ]
  },
  {
   "cell_type": "markdown",
   "metadata": {},
   "source": [
    "###    Analysis\n",
    "    \n",
    "    - Highly signicant are the differences in the concentration of rides, Percentage of Total Fares by City Type and Percentage of Total Rides by City Type as demonstrated on the analysis chart.\n",
    "\n",
    "    - Urban also have more significant number of drivers as compared to drivers from the other classified location types. \n",
    "    \n",
    "    - However, urban have a lower fare average. It would be interesting to check and correlate the fare data against trip distance data. Trip distance could be a factor or if the factor of concentration of ride sharing drivers particularly on urban areas.\n",
    "    \n",
    "    - With the two data, it opens the question if one could earn good income driving for a ride sharing and what specific location type will be ideal to earn the most. \n",
    "    \n",
    "    - On management side, the higher number and percentages gives conclusive information about the company's geographic concentration of its operation and locations it needs to work-on."
   ]
  },
  {
   "cell_type": "code",
   "execution_count": 1,
   "metadata": {},
   "outputs": [],
   "source": [
    "#import dependencies\n",
    "\n",
    "import pandas as pd\n",
    "import matplotlib.pyplot as plt\n",
    "import numpy as np\n",
    "import os\n",
    "import seaborn as sns"
   ]
  },
  {
   "cell_type": "code",
   "execution_count": 2,
   "metadata": {},
   "outputs": [],
   "source": [
    "#import pyber files using pandas\n",
    "\n",
    "loc_data = os.path.join('raw_data', 'city_data.csv')\n",
    "ride_data = os.path.join('raw_data', 'ride_data.csv')\n",
    "\n",
    "#Read the flat files and create dataframes using pythin pandas\n",
    "loc_df = pd.read_csv(loc_data)\n",
    "ride_df =pd.read_csv(ride_data)"
   ]
  },
  {
   "cell_type": "code",
   "execution_count": 3,
   "metadata": {},
   "outputs": [
    {
     "data": {
      "text/html": [
       "<div>\n",
       "<style>\n",
       "    .dataframe thead tr:only-child th {\n",
       "        text-align: right;\n",
       "    }\n",
       "\n",
       "    .dataframe thead th {\n",
       "        text-align: left;\n",
       "    }\n",
       "\n",
       "    .dataframe tbody tr th {\n",
       "        vertical-align: top;\n",
       "    }\n",
       "</style>\n",
       "<table border=\"1\" class=\"dataframe\">\n",
       "  <thead>\n",
       "    <tr style=\"text-align: right;\">\n",
       "      <th></th>\n",
       "      <th>city</th>\n",
       "      <th>driver_count</th>\n",
       "      <th>type</th>\n",
       "    </tr>\n",
       "  </thead>\n",
       "  <tbody>\n",
       "    <tr>\n",
       "      <th>0</th>\n",
       "      <td>Kelseyland</td>\n",
       "      <td>63</td>\n",
       "      <td>Urban</td>\n",
       "    </tr>\n",
       "    <tr>\n",
       "      <th>1</th>\n",
       "      <td>Nguyenbury</td>\n",
       "      <td>8</td>\n",
       "      <td>Urban</td>\n",
       "    </tr>\n",
       "  </tbody>\n",
       "</table>\n",
       "</div>"
      ],
      "text/plain": [
       "         city  driver_count   type\n",
       "0  Kelseyland            63  Urban\n",
       "1  Nguyenbury             8  Urban"
      ]
     },
     "execution_count": 3,
     "metadata": {},
     "output_type": "execute_result"
    }
   ],
   "source": [
    "#view sample contents of the location file\n",
    "loc_df.head(2)"
   ]
  },
  {
   "cell_type": "code",
   "execution_count": 4,
   "metadata": {},
   "outputs": [
    {
     "data": {
      "text/html": [
       "<div>\n",
       "<style>\n",
       "    .dataframe thead tr:only-child th {\n",
       "        text-align: right;\n",
       "    }\n",
       "\n",
       "    .dataframe thead th {\n",
       "        text-align: left;\n",
       "    }\n",
       "\n",
       "    .dataframe tbody tr th {\n",
       "        vertical-align: top;\n",
       "    }\n",
       "</style>\n",
       "<table border=\"1\" class=\"dataframe\">\n",
       "  <thead>\n",
       "    <tr style=\"text-align: right;\">\n",
       "      <th></th>\n",
       "      <th>city</th>\n",
       "      <th>date</th>\n",
       "      <th>fare</th>\n",
       "      <th>ride_id</th>\n",
       "    </tr>\n",
       "  </thead>\n",
       "  <tbody>\n",
       "    <tr>\n",
       "      <th>0</th>\n",
       "      <td>Sarabury</td>\n",
       "      <td>2016-01-16 13:49:27</td>\n",
       "      <td>38.35</td>\n",
       "      <td>5403689035038</td>\n",
       "    </tr>\n",
       "    <tr>\n",
       "      <th>1</th>\n",
       "      <td>South Roy</td>\n",
       "      <td>2016-01-02 18:42:34</td>\n",
       "      <td>17.49</td>\n",
       "      <td>4036272335942</td>\n",
       "    </tr>\n",
       "  </tbody>\n",
       "</table>\n",
       "</div>"
      ],
      "text/plain": [
       "        city                 date   fare        ride_id\n",
       "0   Sarabury  2016-01-16 13:49:27  38.35  5403689035038\n",
       "1  South Roy  2016-01-02 18:42:34  17.49  4036272335942"
      ]
     },
     "execution_count": 4,
     "metadata": {},
     "output_type": "execute_result"
    }
   ],
   "source": [
    "#view sample contents of the ride information\n",
    "ride_df.head(2)"
   ]
  },
  {
   "cell_type": "code",
   "execution_count": 5,
   "metadata": {},
   "outputs": [
    {
     "data": {
      "text/plain": [
       "city            126\n",
       "driver_count    126\n",
       "type            126\n",
       "dtype: int64"
      ]
     },
     "execution_count": 5,
     "metadata": {},
     "output_type": "execute_result"
    }
   ],
   "source": [
    "#Check number of count of records for Location Dataframe\n",
    "loc_df.count()"
   ]
  },
  {
   "cell_type": "code",
   "execution_count": 6,
   "metadata": {},
   "outputs": [
    {
     "data": {
      "text/plain": [
       "city            125\n",
       "driver_count    125\n",
       "type            125\n",
       "dtype: int64"
      ]
     },
     "execution_count": 6,
     "metadata": {},
     "output_type": "execute_result"
    }
   ],
   "source": [
    "#Drop duplicated records and keeping the first\n",
    "loc_df = loc_df.drop_duplicates('city', keep='first')\n",
    "loc_df.count()"
   ]
  },
  {
   "cell_type": "code",
   "execution_count": 7,
   "metadata": {},
   "outputs": [
    {
     "data": {
      "text/plain": [
       "False"
      ]
     },
     "execution_count": 7,
     "metadata": {},
     "output_type": "execute_result"
    }
   ],
   "source": [
    "# Check for missing values\n",
    "loc_df.isnull().values.any()"
   ]
  },
  {
   "cell_type": "code",
   "execution_count": 8,
   "metadata": {},
   "outputs": [
    {
     "data": {
      "text/plain": [
       "city       2375\n",
       "date       2375\n",
       "fare       2375\n",
       "ride_id    2375\n",
       "dtype: int64"
      ]
     },
     "execution_count": 8,
     "metadata": {},
     "output_type": "execute_result"
    }
   ],
   "source": [
    "#Check number of count of records for Location Dataframe\n",
    "ride_df.count()"
   ]
  },
  {
   "cell_type": "code",
   "execution_count": 9,
   "metadata": {},
   "outputs": [
    {
     "data": {
      "text/plain": [
       "city       2375\n",
       "date       2375\n",
       "fare       2375\n",
       "ride_id    2375\n",
       "dtype: int64"
      ]
     },
     "execution_count": 9,
     "metadata": {},
     "output_type": "execute_result"
    }
   ],
   "source": [
    "#Drop duplicated records and keeping the first\n",
    "ride_df = ride_df.drop_duplicates('ride_id', keep='first')\n",
    "ride_df.count()"
   ]
  },
  {
   "cell_type": "code",
   "execution_count": 10,
   "metadata": {},
   "outputs": [
    {
     "data": {
      "text/plain": [
       "False"
      ]
     },
     "execution_count": 10,
     "metadata": {},
     "output_type": "execute_result"
    }
   ],
   "source": [
    "# Check for missing values\n",
    "ride_df.isnull().values.any()"
   ]
  },
  {
   "cell_type": "code",
   "execution_count": 11,
   "metadata": {},
   "outputs": [
    {
     "data": {
      "text/html": [
       "<div>\n",
       "<style>\n",
       "    .dataframe thead tr:only-child th {\n",
       "        text-align: right;\n",
       "    }\n",
       "\n",
       "    .dataframe thead th {\n",
       "        text-align: left;\n",
       "    }\n",
       "\n",
       "    .dataframe tbody tr th {\n",
       "        vertical-align: top;\n",
       "    }\n",
       "</style>\n",
       "<table border=\"1\" class=\"dataframe\">\n",
       "  <thead>\n",
       "    <tr style=\"text-align: right;\">\n",
       "      <th></th>\n",
       "      <th>city</th>\n",
       "      <th>driver_count</th>\n",
       "      <th>type</th>\n",
       "      <th>date</th>\n",
       "      <th>fare</th>\n",
       "      <th>ride_id</th>\n",
       "    </tr>\n",
       "  </thead>\n",
       "  <tbody>\n",
       "    <tr>\n",
       "      <th>0</th>\n",
       "      <td>Kelseyland</td>\n",
       "      <td>63</td>\n",
       "      <td>Urban</td>\n",
       "      <td>2016-08-19 04:27:52</td>\n",
       "      <td>5.51</td>\n",
       "      <td>6246006544795</td>\n",
       "    </tr>\n",
       "    <tr>\n",
       "      <th>1</th>\n",
       "      <td>Kelseyland</td>\n",
       "      <td>63</td>\n",
       "      <td>Urban</td>\n",
       "      <td>2016-04-17 06:59:50</td>\n",
       "      <td>5.54</td>\n",
       "      <td>7466473222333</td>\n",
       "    </tr>\n",
       "    <tr>\n",
       "      <th>2</th>\n",
       "      <td>Kelseyland</td>\n",
       "      <td>63</td>\n",
       "      <td>Urban</td>\n",
       "      <td>2016-05-04 15:06:07</td>\n",
       "      <td>30.54</td>\n",
       "      <td>2140501382736</td>\n",
       "    </tr>\n",
       "    <tr>\n",
       "      <th>3</th>\n",
       "      <td>Kelseyland</td>\n",
       "      <td>63</td>\n",
       "      <td>Urban</td>\n",
       "      <td>2016-01-25 20:44:56</td>\n",
       "      <td>12.08</td>\n",
       "      <td>1896987891309</td>\n",
       "    </tr>\n",
       "    <tr>\n",
       "      <th>4</th>\n",
       "      <td>Kelseyland</td>\n",
       "      <td>63</td>\n",
       "      <td>Urban</td>\n",
       "      <td>2016-08-09 18:19:47</td>\n",
       "      <td>17.91</td>\n",
       "      <td>8784212854829</td>\n",
       "    </tr>\n",
       "  </tbody>\n",
       "</table>\n",
       "</div>"
      ],
      "text/plain": [
       "         city  driver_count   type                 date   fare        ride_id\n",
       "0  Kelseyland            63  Urban  2016-08-19 04:27:52   5.51  6246006544795\n",
       "1  Kelseyland            63  Urban  2016-04-17 06:59:50   5.54  7466473222333\n",
       "2  Kelseyland            63  Urban  2016-05-04 15:06:07  30.54  2140501382736\n",
       "3  Kelseyland            63  Urban  2016-01-25 20:44:56  12.08  1896987891309\n",
       "4  Kelseyland            63  Urban  2016-08-09 18:19:47  17.91  8784212854829"
      ]
     },
     "execution_count": 11,
     "metadata": {},
     "output_type": "execute_result"
    }
   ],
   "source": [
    "#merge both dataframes\n",
    "merged_df = loc_df.merge(ride_df, on = 'city')\n",
    "merged_df.head()"
   ]
  },
  {
   "cell_type": "markdown",
   "metadata": {},
   "source": [
    "## Bubble Plot of Ride Sharing Data"
   ]
  },
  {
   "cell_type": "code",
   "execution_count": 12,
   "metadata": {},
   "outputs": [],
   "source": [
    "#Group new DataFrame by City\n",
    "group_byCity = merged_df.groupby('city')\n",
    "\n",
    "#Get Avg Fare by City\n",
    "avg_fare = group_byCity.mean()['fare']\n",
    "\n",
    "#Total Rides\n",
    "t_ride = group_byCity['ride_id'].count()\n",
    "\n",
    "#Total Drivers\n",
    "t_driver = group_byCity.mean()['driver_count']\n",
    "\n",
    "# city type data and set as index\n",
    "city_type = loc_df.set_index('city')['type']"
   ]
  },
  {
   "cell_type": "code",
   "execution_count": 13,
   "metadata": {},
   "outputs": [
    {
     "data": {
      "text/html": [
       "<div>\n",
       "<style>\n",
       "    .dataframe thead tr:only-child th {\n",
       "        text-align: right;\n",
       "    }\n",
       "\n",
       "    .dataframe thead th {\n",
       "        text-align: left;\n",
       "    }\n",
       "\n",
       "    .dataframe tbody tr th {\n",
       "        vertical-align: top;\n",
       "    }\n",
       "</style>\n",
       "<table border=\"1\" class=\"dataframe\">\n",
       "  <thead>\n",
       "    <tr style=\"text-align: right;\">\n",
       "      <th></th>\n",
       "      <th>Average Fare</th>\n",
       "      <th>City Types</th>\n",
       "      <th>Driver Count</th>\n",
       "      <th>Total Rides</th>\n",
       "    </tr>\n",
       "  </thead>\n",
       "  <tbody>\n",
       "    <tr>\n",
       "      <th>Alvarezhaven</th>\n",
       "      <td>23.928710</td>\n",
       "      <td>Urban</td>\n",
       "      <td>21.0</td>\n",
       "      <td>31</td>\n",
       "    </tr>\n",
       "    <tr>\n",
       "      <th>Alyssaberg</th>\n",
       "      <td>20.609615</td>\n",
       "      <td>Urban</td>\n",
       "      <td>67.0</td>\n",
       "      <td>26</td>\n",
       "    </tr>\n",
       "    <tr>\n",
       "      <th>Anitamouth</th>\n",
       "      <td>37.315556</td>\n",
       "      <td>Suburban</td>\n",
       "      <td>16.0</td>\n",
       "      <td>9</td>\n",
       "    </tr>\n",
       "    <tr>\n",
       "      <th>Antoniomouth</th>\n",
       "      <td>23.625000</td>\n",
       "      <td>Urban</td>\n",
       "      <td>21.0</td>\n",
       "      <td>22</td>\n",
       "    </tr>\n",
       "    <tr>\n",
       "      <th>Aprilchester</th>\n",
       "      <td>21.981579</td>\n",
       "      <td>Urban</td>\n",
       "      <td>49.0</td>\n",
       "      <td>19</td>\n",
       "    </tr>\n",
       "  </tbody>\n",
       "</table>\n",
       "</div>"
      ],
      "text/plain": [
       "              Average Fare City Types  Driver Count  Total Rides\n",
       "Alvarezhaven     23.928710      Urban          21.0           31\n",
       "Alyssaberg       20.609615      Urban          67.0           26\n",
       "Anitamouth       37.315556   Suburban          16.0            9\n",
       "Antoniomouth     23.625000      Urban          21.0           22\n",
       "Aprilchester     21.981579      Urban          49.0           19"
      ]
     },
     "execution_count": 13,
     "metadata": {},
     "output_type": "execute_result"
    }
   ],
   "source": [
    "# Create new DataFrame of the summary\n",
    "pyDer_df = pd.DataFrame({\n",
    "    'Average Fare': avg_fare,\n",
    "    'Driver Count': t_driver,\n",
    "    'Total Rides': t_ride,\n",
    "    'City Types': city_type\n",
    "})\n",
    "pyDer_df.head()"
   ]
  },
  {
   "cell_type": "code",
   "execution_count": 14,
   "metadata": {},
   "outputs": [],
   "source": [
    "#Create Category according the City Type\n",
    "rural = pyDer_df[pyDer_df['City Types'] == 'Rural']\n",
    "suburban = pyDer_df[pyDer_df['City Types'] == 'Suburban']\n",
    "urban = pyDer_df[pyDer_df['City Types'] == 'Urban']"
   ]
  },
  {
   "cell_type": "code",
   "execution_count": 15,
   "metadata": {},
   "outputs": [],
   "source": [
    "#color scheme dictionary and preview\n",
    "color_scheme = {'Gold':'#f1e556', 'Light Sky Blue':'#a9ebf7', 'Light Coral':'#dd6262'}\n",
    "\n",
    "#Color code\n",
    "cityType_color = {'Suburban': color_scheme['Light Sky Blue'],\n",
    "                  'Urban': color_scheme['Light Coral'],\n",
    "                  'Rural': color_scheme['Gold']\n",
    "                  }"
   ]
  },
  {
   "cell_type": "code",
   "execution_count": 16,
   "metadata": {},
   "outputs": [
    {
     "data": {
      "text/plain": [
       "<matplotlib.collections.PathCollection at 0x10b609128>"
      ]
     },
     "execution_count": 16,
     "metadata": {},
     "output_type": "execute_result"
    }
   ],
   "source": [
    "#Creat scatter plot for the 3 categories(Urban,Sub-urban, Rural)\n",
    "\n",
    "#applying effects like alpha, edgecolor, and linewidths\n",
    "\n",
    "plt.scatter(rural['Total Rides'], \n",
    "            rural['Average Fare'], \n",
    "            s = rural['Driver Count']*5, \n",
    "            color = cityType_color['Rural'], \n",
    "            edgecolor = 'grey',\n",
    "            linewidth = 0.5, \n",
    "            label = 'Rural', alpha = .5)\n",
    "plt.scatter(suburban['Total Rides'], \n",
    "            suburban['Average Fare'], \n",
    "            s = suburban['Driver Count']*5, \n",
    "            color = cityType_color['Suburban'], \n",
    "            linewidth = 0.5, \n",
    "            edgecolor = 'grey', \n",
    "            label = 'Suburban', alpha = .5)\n",
    "plt.scatter(urban['Total Rides'], \n",
    "            urban['Average Fare'], \n",
    "            s = urban['Driver Count']*5, \n",
    "            color = cityType_color['Urban'], \n",
    "            linewidth = 0.5, \n",
    "            edgecolor = 'grey', \n",
    "            label = 'Urban', alpha = .5)\n"
   ]
  },
  {
   "cell_type": "code",
   "execution_count": 17,
   "metadata": {},
   "outputs": [],
   "source": [
    "#Sup_Title of the Bubble Chart\n",
    "plt.suptitle('PyBer Ride Sharing Data')\n",
    "\n",
    "#Plot Titles, Axes Labels, Legend Labels, Wedge Percentages, and Wedge Labels. \n",
    "plt.title('Note : Circle size correlates with the Count of Drivers per City')\n",
    "plt.xlabel('Total Rides per City')\n",
    "plt.ylabel('Average Fare per City')\n",
    "\n",
    "lgnd = plt.legend(frameon = True, edgecolor = 'grey')\n",
    "lgnd.legendHandles[0]._sizes = [60]\n",
    "lgnd.legendHandles[1]._sizes = [60]\n",
    "lgnd.legendHandles[2]._sizes = [60]"
   ]
  },
  {
   "cell_type": "code",
   "execution_count": 18,
   "metadata": {},
   "outputs": [
    {
     "data": {
      "image/png": "[encoded data removed]",
      "text/plain": [
       "<matplotlib.figure.Figure at 0x1a12abb5f8>"
      ]
     },
     "metadata": {},
     "output_type": "display_data"
    }
   ],
   "source": [
    "plt.show()"
   ]
  },
  {
   "cell_type": "markdown",
   "metadata": {},
   "source": [
    "## By City Type"
   ]
  },
  {
   "cell_type": "code",
   "execution_count": 19,
   "metadata": {},
   "outputs": [
    {
     "data": {
      "text/html": [
       "<div>\n",
       "<style>\n",
       "    .dataframe thead tr:only-child th {\n",
       "        text-align: right;\n",
       "    }\n",
       "\n",
       "    .dataframe thead th {\n",
       "        text-align: left;\n",
       "    }\n",
       "\n",
       "    .dataframe tbody tr th {\n",
       "        vertical-align: top;\n",
       "    }\n",
       "</style>\n",
       "<table border=\"1\" class=\"dataframe\">\n",
       "  <thead>\n",
       "    <tr style=\"text-align: right;\">\n",
       "      <th></th>\n",
       "      <th>city</th>\n",
       "      <th>driver_count</th>\n",
       "      <th>type</th>\n",
       "      <th>date</th>\n",
       "      <th>fare</th>\n",
       "      <th>ride_id</th>\n",
       "    </tr>\n",
       "  </thead>\n",
       "  <tbody>\n",
       "    <tr>\n",
       "      <th>0</th>\n",
       "      <td>Kelseyland</td>\n",
       "      <td>63</td>\n",
       "      <td>Urban</td>\n",
       "      <td>2016-08-19 04:27:52</td>\n",
       "      <td>5.51</td>\n",
       "      <td>6246006544795</td>\n",
       "    </tr>\n",
       "    <tr>\n",
       "      <th>1</th>\n",
       "      <td>Kelseyland</td>\n",
       "      <td>63</td>\n",
       "      <td>Urban</td>\n",
       "      <td>2016-04-17 06:59:50</td>\n",
       "      <td>5.54</td>\n",
       "      <td>7466473222333</td>\n",
       "    </tr>\n",
       "    <tr>\n",
       "      <th>2</th>\n",
       "      <td>Kelseyland</td>\n",
       "      <td>63</td>\n",
       "      <td>Urban</td>\n",
       "      <td>2016-05-04 15:06:07</td>\n",
       "      <td>30.54</td>\n",
       "      <td>2140501382736</td>\n",
       "    </tr>\n",
       "    <tr>\n",
       "      <th>3</th>\n",
       "      <td>Kelseyland</td>\n",
       "      <td>63</td>\n",
       "      <td>Urban</td>\n",
       "      <td>2016-01-25 20:44:56</td>\n",
       "      <td>12.08</td>\n",
       "      <td>1896987891309</td>\n",
       "    </tr>\n",
       "    <tr>\n",
       "      <th>4</th>\n",
       "      <td>Kelseyland</td>\n",
       "      <td>63</td>\n",
       "      <td>Urban</td>\n",
       "      <td>2016-08-09 18:19:47</td>\n",
       "      <td>17.91</td>\n",
       "      <td>8784212854829</td>\n",
       "    </tr>\n",
       "  </tbody>\n",
       "</table>\n",
       "</div>"
      ],
      "text/plain": [
       "         city  driver_count   type                 date   fare        ride_id\n",
       "0  Kelseyland            63  Urban  2016-08-19 04:27:52   5.51  6246006544795\n",
       "1  Kelseyland            63  Urban  2016-04-17 06:59:50   5.54  7466473222333\n",
       "2  Kelseyland            63  Urban  2016-05-04 15:06:07  30.54  2140501382736\n",
       "3  Kelseyland            63  Urban  2016-01-25 20:44:56  12.08  1896987891309\n",
       "4  Kelseyland            63  Urban  2016-08-09 18:19:47  17.91  8784212854829"
      ]
     },
     "execution_count": 19,
     "metadata": {},
     "output_type": "execute_result"
    }
   ],
   "source": [
    "merged_df.head()"
   ]
  },
  {
   "cell_type": "code",
   "execution_count": 20,
   "metadata": {},
   "outputs": [
    {
     "data": {
      "text/html": [
       "<div>\n",
       "<style>\n",
       "    .dataframe thead tr:only-child th {\n",
       "        text-align: right;\n",
       "    }\n",
       "\n",
       "    .dataframe thead th {\n",
       "        text-align: left;\n",
       "    }\n",
       "\n",
       "    .dataframe tbody tr th {\n",
       "        vertical-align: top;\n",
       "    }\n",
       "</style>\n",
       "<table border=\"1\" class=\"dataframe\">\n",
       "  <thead>\n",
       "    <tr style=\"text-align: right;\">\n",
       "      <th></th>\n",
       "      <th>type</th>\n",
       "      <th>ride_id</th>\n",
       "      <th>fare</th>\n",
       "      <th>driver_count</th>\n",
       "    </tr>\n",
       "  </thead>\n",
       "  <tbody>\n",
       "    <tr>\n",
       "      <th>0</th>\n",
       "      <td>Urban</td>\n",
       "      <td>6246006544795</td>\n",
       "      <td>5.51</td>\n",
       "      <td>63</td>\n",
       "    </tr>\n",
       "    <tr>\n",
       "      <th>1</th>\n",
       "      <td>Urban</td>\n",
       "      <td>7466473222333</td>\n",
       "      <td>5.54</td>\n",
       "      <td>63</td>\n",
       "    </tr>\n",
       "    <tr>\n",
       "      <th>1625</th>\n",
       "      <td>Suburban</td>\n",
       "      <td>485795568537</td>\n",
       "      <td>25.00</td>\n",
       "      <td>4</td>\n",
       "    </tr>\n",
       "    <tr>\n",
       "      <th>1626</th>\n",
       "      <td>Suburban</td>\n",
       "      <td>617204620844</td>\n",
       "      <td>49.47</td>\n",
       "      <td>4</td>\n",
       "    </tr>\n",
       "    <tr>\n",
       "      <th>2250</th>\n",
       "      <td>Rural</td>\n",
       "      <td>8193837300497</td>\n",
       "      <td>22.79</td>\n",
       "      <td>3</td>\n",
       "    </tr>\n",
       "    <tr>\n",
       "      <th>2251</th>\n",
       "      <td>Rural</td>\n",
       "      <td>4943246873754</td>\n",
       "      <td>26.72</td>\n",
       "      <td>3</td>\n",
       "    </tr>\n",
       "  </tbody>\n",
       "</table>\n",
       "</div>"
      ],
      "text/plain": [
       "          type        ride_id   fare  driver_count\n",
       "0        Urban  6246006544795   5.51            63\n",
       "1        Urban  7466473222333   5.54            63\n",
       "1625  Suburban   485795568537  25.00             4\n",
       "1626  Suburban   617204620844  49.47             4\n",
       "2250     Rural  8193837300497  22.79             3\n",
       "2251     Rural  4943246873754  26.72             3"
      ]
     },
     "execution_count": 20,
     "metadata": {},
     "output_type": "execute_result"
    }
   ],
   "source": [
    "#Organized columns of data and rename column\n",
    "DF_by_cityType = merged_df.groupby('type')['type', 'ride_id', 'fare', 'driver_count']\n",
    "DF_by_cityType.head(2)"
   ]
  },
  {
   "cell_type": "code",
   "execution_count": 21,
   "metadata": {},
   "outputs": [],
   "source": [
    "pie_color = ['#f1e556', '#a9ebf7', '#dd6262']\n",
    "pie_explode = [0, 0.1, 0.1]"
   ]
  },
  {
   "cell_type": "code",
   "execution_count": 22,
   "metadata": {},
   "outputs": [],
   "source": [
    "#Total Fare per City\n",
    "totalFare_perCityType = DF_by_cityType.sum()['fare']\n",
    "\n",
    "#index of the chart\n",
    "pie_index = totalFare_perCityType.index"
   ]
  },
  {
   "cell_type": "code",
   "execution_count": 23,
   "metadata": {},
   "outputs": [
    {
     "data": {
      "text/plain": [
       "([<matplotlib.patches.Wedge at 0x1a12cc9160>,\n",
       "  <matplotlib.patches.Wedge at 0x1a12cc9ba8>,\n",
       "  <matplotlib.patches.Wedge at 0x1a12cd2668>],\n",
       " [Text(-0.229323,1.07583,'Rural'),\n",
       "  Text(-1.17672,0.235235,'Suburban'),\n",
       "  Text(1.10182,-0.475382,'Urban')],\n",
       " [Text(-0.125085,0.586817,'6.68%'),\n",
       "  Text(-0.686419,0.13722,'30.35%'),\n",
       "  Text(0.64273,-0.277306,'62.97%')])"
      ]
     },
     "execution_count": 23,
     "metadata": {},
     "output_type": "execute_result"
    }
   ],
   "source": [
    "#Create the pie plot\n",
    "plt.pie(totalFare_perCityType, \n",
    "        autopct='%.2f%%',\n",
    "        colors=pie_color,\n",
    "        explode=pie_explode,\n",
    "        labels = pie_index,\n",
    "        startangle = 90,\n",
    "        shadow = True, \n",
    "        wedgeprops = {'linewidth':.5,'edgecolor': 'black'}\n",
    "       )"
   ]
  },
  {
   "cell_type": "code",
   "execution_count": 24,
   "metadata": {},
   "outputs": [
    {
     "data": {
      "image/png": "[encoded data removed]",
      "text/plain": [
       "<matplotlib.figure.Figure at 0x1a12c6a668>"
      ]
     },
     "metadata": {},
     "output_type": "display_data"
    }
   ],
   "source": [
    "plt.title('% of Total Fares by City Type')\n",
    "plt.axis('equal')\n",
    "plt.show()"
   ]
  },
  {
   "cell_type": "markdown",
   "metadata": {},
   "source": [
    "## Total Rides by City Type"
   ]
  },
  {
   "cell_type": "code",
   "execution_count": 25,
   "metadata": {},
   "outputs": [],
   "source": [
    "#% of Total Rides by City Type\n",
    "totalRides_perCityType = DF_by_cityType.count()['ride_id']"
   ]
  },
  {
   "cell_type": "code",
   "execution_count": 26,
   "metadata": {},
   "outputs": [
    {
     "data": {
      "text/plain": [
       "([<matplotlib.patches.Wedge at 0x1a12d1d518>,\n",
       "  <matplotlib.patches.Wedge at 0x1a12d1df60>,\n",
       "  <matplotlib.patches.Wedge at 0x1a12d28a20>],\n",
       " [Text(-0.181054,1.085,'Rural'),\n",
       "  Text(-1.09893,0.482034,'Suburban'),\n",
       "  Text(1.0046,-0.656338,'Urban')],\n",
       " [Text(-0.0987568,0.591817,'5.26%'),\n",
       "  Text(-0.641041,0.281187,'26.32%'),\n",
       "  Text(0.586017,-0.382864,'68.42%')])"
      ]
     },
     "execution_count": 26,
     "metadata": {},
     "output_type": "execute_result"
    }
   ],
   "source": [
    "#Create the pie plot\n",
    "plt.pie(totalRides_perCityType, \n",
    "        autopct='%.2f%%',\n",
    "        colors=pie_color,\n",
    "        explode=pie_explode,\n",
    "        labels = pie_index,\n",
    "        startangle = 90,\n",
    "        shadow = True, \n",
    "        wedgeprops = {'linewidth':.5,'edgecolor': 'black'}\n",
    "       )"
   ]
  },
  {
   "cell_type": "code",
   "execution_count": 27,
   "metadata": {},
   "outputs": [
    {
     "data": {
      "image/png": "[encoded data removed]",
      "text/plain": [
       "<matplotlib.figure.Figure at 0x10ab14be0>"
      ]
     },
     "metadata": {},
     "output_type": "display_data"
    }
   ],
   "source": [
    "plt.title('% of Total Rides by City Type')\n",
    "plt.axis('equal')\n",
    "plt.show()"
   ]
  },
  {
   "cell_type": "markdown",
   "metadata": {},
   "source": [
    "## Total Drivers by City Type"
   ]
  },
  {
   "cell_type": "code",
   "execution_count": 28,
   "metadata": {},
   "outputs": [],
   "source": [
    "#% of Total Drivers by City Type\n",
    "totalDrivers_perCityType = DF_by_cityType.count()['driver_count']"
   ]
  },
  {
   "cell_type": "code",
   "execution_count": 29,
   "metadata": {},
   "outputs": [
    {
     "data": {
      "text/plain": [
       "([<matplotlib.patches.Wedge at 0x1a1afb1ac8>,\n",
       "  <matplotlib.patches.Wedge at 0x1a1afb9550>,\n",
       "  <matplotlib.patches.Wedge at 0x1a1afb9fd0>],\n",
       " [Text(-0.181054,1.085,'Rural'),\n",
       "  Text(-1.09893,0.482034,'Suburban'),\n",
       "  Text(1.0046,-0.656338,'Urban')],\n",
       " [Text(-0.0987568,0.591817,'5.26%'),\n",
       "  Text(-0.641041,0.281187,'26.32%'),\n",
       "  Text(0.586017,-0.382864,'68.42%')])"
      ]
     },
     "execution_count": 29,
     "metadata": {},
     "output_type": "execute_result"
    }
   ],
   "source": [
    "#Create the pie plot\n",
    "plt.pie(totalDrivers_perCityType, \n",
    "        autopct='%.2f%%',\n",
    "        colors=pie_color,\n",
    "        explode=pie_explode,\n",
    "        labels = pie_index,\n",
    "        startangle = 90,\n",
    "        shadow = True, \n",
    "        wedgeprops = {'linewidth':.5,'edgecolor': 'black'}\n",
    "       )"
   ]
  },
  {
   "cell_type": "code",
   "execution_count": 30,
   "metadata": {},
   "outputs": [
    {
     "data": {
      "image/png": "[encoded data removed]",
      "text/plain": [
       "<matplotlib.figure.Figure at 0x1a12c64898>"
      ]
     },
     "metadata": {},
     "output_type": "display_data"
    }
   ],
   "source": [
    "plt.title('% of Total Drivers by City Type')\n",
    "plt.axis('equal')\n",
    "plt.show()"
   ]
  },
  {
   "cell_type": "code",
   "execution_count": null,
   "metadata": {},
   "outputs": [],
   "source": []
  }
 ],
 "metadata": {
  "kernelspec": {
   "display_name": "Python [conda root]",
   "language": "python",
   "name": "conda-root-py"
  },
  "language_info": {
   "codemirror_mode": {
    "name": "ipython",
    "version": 3
   },
   "file_extension": ".py",
   "mimetype": "text/x-python",
   "name": "python",
   "nbconvert_exporter": "python",
   "pygments_lexer": "ipython3",
   "version": "3.6.3"
  }
 },
 "nbformat": 4,
 "nbformat_minor": 2
}
